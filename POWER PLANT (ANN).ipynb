{
 "cells": [
  {
   "cell_type": "markdown",
   "id": "1ebcfab7",
   "metadata": {},
   "source": [
    "## IMPORT THE LIBRARIES"
   ]
  },
  {
   "cell_type": "code",
   "execution_count": 1,
   "id": "f0e0d726",
   "metadata": {},
   "outputs": [],
   "source": [
    "import numpy as np\n",
    "import pandas as pd\n",
    "import matplotlib.pyplot as plt \n",
    "import seaborn as sns"
   ]
  },
  {
   "cell_type": "markdown",
   "id": "78d8e31d",
   "metadata": {},
   "source": [
    "## DATA PREPROCESSING"
   ]
  },
  {
   "cell_type": "code",
   "execution_count": 2,
   "id": "bde6a817",
   "metadata": {},
   "outputs": [],
   "source": [
    "data = pd.read_excel('Folds5x2_pp.xlsx')"
   ]
  },
  {
   "cell_type": "code",
   "execution_count": 3,
   "id": "0dfc1815",
   "metadata": {},
   "outputs": [],
   "source": [
    "X = data.iloc[:, :-1]\n",
    "y = data.iloc[:, -1]"
   ]
  },
  {
   "cell_type": "code",
   "execution_count": 4,
   "id": "5433d6c3",
   "metadata": {},
   "outputs": [
    {
     "data": {
      "text/html": [
       "<div>\n",
       "<style scoped>\n",
       "    .dataframe tbody tr th:only-of-type {\n",
       "        vertical-align: middle;\n",
       "    }\n",
       "\n",
       "    .dataframe tbody tr th {\n",
       "        vertical-align: top;\n",
       "    }\n",
       "\n",
       "    .dataframe thead th {\n",
       "        text-align: right;\n",
       "    }\n",
       "</style>\n",
       "<table border=\"1\" class=\"dataframe\">\n",
       "  <thead>\n",
       "    <tr style=\"text-align: right;\">\n",
       "      <th></th>\n",
       "      <th>AT</th>\n",
       "      <th>V</th>\n",
       "      <th>AP</th>\n",
       "      <th>RH</th>\n",
       "    </tr>\n",
       "  </thead>\n",
       "  <tbody>\n",
       "    <tr>\n",
       "      <th>0</th>\n",
       "      <td>14.96</td>\n",
       "      <td>41.76</td>\n",
       "      <td>1024.07</td>\n",
       "      <td>73.17</td>\n",
       "    </tr>\n",
       "    <tr>\n",
       "      <th>1</th>\n",
       "      <td>25.18</td>\n",
       "      <td>62.96</td>\n",
       "      <td>1020.04</td>\n",
       "      <td>59.08</td>\n",
       "    </tr>\n",
       "    <tr>\n",
       "      <th>2</th>\n",
       "      <td>5.11</td>\n",
       "      <td>39.40</td>\n",
       "      <td>1012.16</td>\n",
       "      <td>92.14</td>\n",
       "    </tr>\n",
       "    <tr>\n",
       "      <th>3</th>\n",
       "      <td>20.86</td>\n",
       "      <td>57.32</td>\n",
       "      <td>1010.24</td>\n",
       "      <td>76.64</td>\n",
       "    </tr>\n",
       "    <tr>\n",
       "      <th>4</th>\n",
       "      <td>10.82</td>\n",
       "      <td>37.50</td>\n",
       "      <td>1009.23</td>\n",
       "      <td>96.62</td>\n",
       "    </tr>\n",
       "  </tbody>\n",
       "</table>\n",
       "</div>"
      ],
      "text/plain": [
       "      AT      V       AP     RH\n",
       "0  14.96  41.76  1024.07  73.17\n",
       "1  25.18  62.96  1020.04  59.08\n",
       "2   5.11  39.40  1012.16  92.14\n",
       "3  20.86  57.32  1010.24  76.64\n",
       "4  10.82  37.50  1009.23  96.62"
      ]
     },
     "execution_count": 4,
     "metadata": {},
     "output_type": "execute_result"
    }
   ],
   "source": [
    "X.head()"
   ]
  },
  {
   "cell_type": "code",
   "execution_count": 5,
   "id": "a9bd9e15",
   "metadata": {},
   "outputs": [
    {
     "data": {
      "text/plain": [
       "0    463.26\n",
       "1    444.37\n",
       "2    488.56\n",
       "3    446.48\n",
       "4    473.90\n",
       "Name: PE, dtype: float64"
      ]
     },
     "execution_count": 5,
     "metadata": {},
     "output_type": "execute_result"
    }
   ],
   "source": [
    "y.head()"
   ]
  },
  {
   "cell_type": "markdown",
   "id": "b59ccbb5",
   "metadata": {},
   "source": [
    "## SPLITING THE DATASET INTO TRAINING AND TESTING"
   ]
  },
  {
   "cell_type": "code",
   "execution_count": 6,
   "id": "e5512b90",
   "metadata": {},
   "outputs": [],
   "source": [
    "from sklearn.model_selection import train_test_split\n",
    "X_train, X_test, y_train, y_test = train_test_split(X,y,test_size = 0.2, random_state = 0)"
   ]
  },
  {
   "cell_type": "markdown",
   "id": "5ed86d7a",
   "metadata": {},
   "source": [
    "## BUILDING THE ANN"
   ]
  },
  {
   "cell_type": "code",
   "execution_count": 7,
   "id": "aa6a4fcb",
   "metadata": {},
   "outputs": [],
   "source": [
    "import keras"
   ]
  },
  {
   "cell_type": "code",
   "execution_count": 8,
   "id": "45fc4981",
   "metadata": {},
   "outputs": [],
   "source": [
    "from keras.models import Sequential"
   ]
  },
  {
   "cell_type": "code",
   "execution_count": 9,
   "id": "a99a5f62",
   "metadata": {},
   "outputs": [],
   "source": [
    "ann = Sequential()"
   ]
  },
  {
   "cell_type": "code",
   "execution_count": 10,
   "id": "f2ace190",
   "metadata": {},
   "outputs": [],
   "source": [
    "from keras.layers import Dense"
   ]
  },
  {
   "cell_type": "code",
   "execution_count": 11,
   "id": "1d5ad39e",
   "metadata": {},
   "outputs": [],
   "source": [
    "ann.add(Dense(6, activation = 'relu'))"
   ]
  },
  {
   "cell_type": "code",
   "execution_count": 12,
   "id": "b2029fb0",
   "metadata": {},
   "outputs": [],
   "source": [
    "ann.add(Dense(6, activation = 'relu'))"
   ]
  },
  {
   "cell_type": "code",
   "execution_count": 13,
   "id": "c92406dc",
   "metadata": {},
   "outputs": [],
   "source": [
    "ann.add(Dense(1))"
   ]
  },
  {
   "cell_type": "markdown",
   "id": "29919163",
   "metadata": {},
   "source": [
    "## TRAINING THE ANN"
   ]
  },
  {
   "cell_type": "code",
   "execution_count": 14,
   "id": "f82180e9",
   "metadata": {},
   "outputs": [],
   "source": [
    "ann.compile(optimizer = 'adam', loss = 'mean_squared_error')"
   ]
  },
  {
   "cell_type": "code",
   "execution_count": 15,
   "id": "b9b2d878",
   "metadata": {},
   "outputs": [
    {
     "name": "stdout",
     "output_type": "stream",
     "text": [
      "Epoch 1/100\n",
      "240/240 [==============================] - 2s 3ms/step - loss: 165604.3594\n",
      "Epoch 2/100\n",
      "240/240 [==============================] - 1s 3ms/step - loss: 1633.0137\n",
      "Epoch 3/100\n",
      "240/240 [==============================] - 1s 4ms/step - loss: 414.8863\n",
      "Epoch 4/100\n",
      "240/240 [==============================] - 1s 5ms/step - loss: 379.4640\n",
      "Epoch 5/100\n",
      "240/240 [==============================] - 1s 5ms/step - loss: 366.6800\n",
      "Epoch 6/100\n",
      "240/240 [==============================] - 1s 4ms/step - loss: 352.2567\n",
      "Epoch 7/100\n",
      "240/240 [==============================] - 1s 5ms/step - loss: 336.3164\n",
      "Epoch 8/100\n",
      "240/240 [==============================] - 1s 5ms/step - loss: 319.1366\n",
      "Epoch 9/100\n",
      "240/240 [==============================] - 1s 4ms/step - loss: 301.0327\n",
      "Epoch 10/100\n",
      "240/240 [==============================] - 1s 6ms/step - loss: 281.8929\n",
      "Epoch 11/100\n",
      "240/240 [==============================] - 1s 3ms/step - loss: 261.9171\n",
      "Epoch 12/100\n",
      "240/240 [==============================] - 1s 3ms/step - loss: 241.8254\n",
      "Epoch 13/100\n",
      "240/240 [==============================] - 1s 3ms/step - loss: 221.8048\n",
      "Epoch 14/100\n",
      "240/240 [==============================] - 1s 4ms/step - loss: 201.8244\n",
      "Epoch 15/100\n",
      "240/240 [==============================] - 1s 4ms/step - loss: 182.4369\n",
      "Epoch 16/100\n",
      "240/240 [==============================] - 1s 3ms/step - loss: 164.4296\n",
      "Epoch 17/100\n",
      "240/240 [==============================] - 1s 4ms/step - loss: 147.2550\n",
      "Epoch 18/100\n",
      "240/240 [==============================] - 1s 4ms/step - loss: 131.1619\n",
      "Epoch 19/100\n",
      "240/240 [==============================] - 1s 4ms/step - loss: 116.2413\n",
      "Epoch 20/100\n",
      "240/240 [==============================] - 1s 3ms/step - loss: 102.5349\n",
      "Epoch 21/100\n",
      "240/240 [==============================] - 1s 3ms/step - loss: 90.4196\n",
      "Epoch 22/100\n",
      "240/240 [==============================] - 1s 4ms/step - loss: 79.6313\n",
      "Epoch 23/100\n",
      "240/240 [==============================] - 1s 4ms/step - loss: 70.0080\n",
      "Epoch 24/100\n",
      "240/240 [==============================] - 1s 5ms/step - loss: 61.2263\n",
      "Epoch 25/100\n",
      "240/240 [==============================] - 1s 4ms/step - loss: 53.5860\n",
      "Epoch 26/100\n",
      "240/240 [==============================] - 1s 4ms/step - loss: 47.1179\n",
      "Epoch 27/100\n",
      "240/240 [==============================] - 1s 5ms/step - loss: 41.6585\n",
      "Epoch 28/100\n",
      "240/240 [==============================] - 1s 4ms/step - loss: 37.6866\n",
      "Epoch 29/100\n",
      "240/240 [==============================] - 1s 5ms/step - loss: 34.2670\n",
      "Epoch 30/100\n",
      "240/240 [==============================] - 1s 3ms/step - loss: 31.6076\n",
      "Epoch 31/100\n",
      "240/240 [==============================] - 1s 3ms/step - loss: 29.9700\n",
      "Epoch 32/100\n",
      "240/240 [==============================] - 1s 5ms/step - loss: 28.6740\n",
      "Epoch 33/100\n",
      "240/240 [==============================] - 1s 5ms/step - loss: 28.2484\n",
      "Epoch 34/100\n",
      "240/240 [==============================] - 1s 4ms/step - loss: 27.3841\n",
      "Epoch 35/100\n",
      "240/240 [==============================] - 1s 4ms/step - loss: 27.6043\n",
      "Epoch 36/100\n",
      "240/240 [==============================] - 1s 5ms/step - loss: 27.5599\n",
      "Epoch 37/100\n",
      "240/240 [==============================] - 1s 5ms/step - loss: 26.8776\n",
      "Epoch 38/100\n",
      "240/240 [==============================] - 1s 5ms/step - loss: 26.9874\n",
      "Epoch 39/100\n",
      "240/240 [==============================] - 1s 3ms/step - loss: 27.0040\n",
      "Epoch 40/100\n",
      "240/240 [==============================] - 1s 4ms/step - loss: 26.6702\n",
      "Epoch 41/100\n",
      "240/240 [==============================] - 1s 4ms/step - loss: 27.3223\n",
      "Epoch 42/100\n",
      "240/240 [==============================] - 1s 4ms/step - loss: 27.0882\n",
      "Epoch 43/100\n",
      "240/240 [==============================] - 1s 5ms/step - loss: 27.3887\n",
      "Epoch 44/100\n",
      "240/240 [==============================] - 1s 5ms/step - loss: 26.7832\n",
      "Epoch 45/100\n",
      "240/240 [==============================] - 1s 3ms/step - loss: 26.8898\n",
      "Epoch 46/100\n",
      "240/240 [==============================] - 1s 5ms/step - loss: 26.8664\n",
      "Epoch 47/100\n",
      "240/240 [==============================] - 1s 4ms/step - loss: 26.7279\n",
      "Epoch 48/100\n",
      "240/240 [==============================] - 1s 4ms/step - loss: 26.9586\n",
      "Epoch 49/100\n",
      "240/240 [==============================] - 1s 4ms/step - loss: 27.1927\n",
      "Epoch 50/100\n",
      "240/240 [==============================] - 1s 4ms/step - loss: 26.6563\n",
      "Epoch 51/100\n",
      "240/240 [==============================] - 1s 5ms/step - loss: 26.7685\n",
      "Epoch 52/100\n",
      "240/240 [==============================] - 1s 5ms/step - loss: 26.5278\n",
      "Epoch 53/100\n",
      "240/240 [==============================] - 1s 4ms/step - loss: 26.7147\n",
      "Epoch 54/100\n",
      "240/240 [==============================] - 1s 3ms/step - loss: 27.3878\n",
      "Epoch 55/100\n",
      "240/240 [==============================] - 1s 3ms/step - loss: 26.8170\n",
      "Epoch 56/100\n",
      "240/240 [==============================] - 1s 3ms/step - loss: 26.5807\n",
      "Epoch 57/100\n",
      "240/240 [==============================] - 1s 3ms/step - loss: 26.4790\n",
      "Epoch 58/100\n",
      "240/240 [==============================] - 1s 3ms/step - loss: 26.7471\n",
      "Epoch 59/100\n",
      "240/240 [==============================] - 1s 3ms/step - loss: 27.3332\n",
      "Epoch 60/100\n",
      "240/240 [==============================] - 1s 5ms/step - loss: 26.7497\n",
      "Epoch 61/100\n",
      "240/240 [==============================] - 1s 5ms/step - loss: 26.3647\n",
      "Epoch 62/100\n",
      "240/240 [==============================] - 1s 5ms/step - loss: 26.3216\n",
      "Epoch 63/100\n",
      "240/240 [==============================] - 1s 4ms/step - loss: 26.5728\n",
      "Epoch 64/100\n",
      "240/240 [==============================] - 1s 4ms/step - loss: 26.9673\n",
      "Epoch 65/100\n",
      "240/240 [==============================] - 1s 5ms/step - loss: 26.8112\n",
      "Epoch 66/100\n",
      "240/240 [==============================] - 1s 4ms/step - loss: 27.2092\n",
      "Epoch 67/100\n",
      "240/240 [==============================] - 1s 4ms/step - loss: 27.1872\n",
      "Epoch 68/100\n",
      "240/240 [==============================] - 1s 5ms/step - loss: 26.7629\n",
      "Epoch 69/100\n",
      "240/240 [==============================] - 1s 4ms/step - loss: 26.3716\n",
      "Epoch 70/100\n",
      "240/240 [==============================] - 1s 4ms/step - loss: 26.9243\n",
      "Epoch 71/100\n",
      "240/240 [==============================] - 1s 4ms/step - loss: 27.1876\n",
      "Epoch 72/100\n",
      "240/240 [==============================] - 1s 4ms/step - loss: 26.7993\n",
      "Epoch 73/100\n",
      "240/240 [==============================] - 1s 4ms/step - loss: 26.9285\n",
      "Epoch 74/100\n",
      "240/240 [==============================] - 1s 4ms/step - loss: 26.9407\n",
      "Epoch 75/100\n",
      "240/240 [==============================] - 1s 5ms/step - loss: 27.0782\n",
      "Epoch 76/100\n",
      "240/240 [==============================] - 1s 5ms/step - loss: 26.5378\n",
      "Epoch 77/100\n",
      "240/240 [==============================] - 1s 5ms/step - loss: 26.4688\n",
      "Epoch 78/100\n",
      "240/240 [==============================] - 1s 4ms/step - loss: 26.7482\n",
      "Epoch 79/100\n",
      "240/240 [==============================] - 1s 4ms/step - loss: 26.3306\n",
      "Epoch 80/100\n",
      "240/240 [==============================] - 1s 4ms/step - loss: 26.7464\n",
      "Epoch 81/100\n",
      "240/240 [==============================] - 1s 4ms/step - loss: 26.7252\n",
      "Epoch 82/100\n",
      "240/240 [==============================] - 1s 4ms/step - loss: 26.4716\n",
      "Epoch 83/100\n",
      "240/240 [==============================] - 1s 4ms/step - loss: 27.2051\n",
      "Epoch 84/100\n",
      "240/240 [==============================] - 1s 4ms/step - loss: 26.3762\n",
      "Epoch 85/100\n",
      "240/240 [==============================] - 1s 3ms/step - loss: 27.0011\n",
      "Epoch 86/100\n",
      "240/240 [==============================] - 1s 3ms/step - loss: 26.3633\n",
      "Epoch 87/100\n",
      "240/240 [==============================] - 1s 3ms/step - loss: 27.2307\n",
      "Epoch 88/100\n",
      "240/240 [==============================] - 1s 3ms/step - loss: 26.7199\n",
      "Epoch 89/100\n",
      "240/240 [==============================] - 1s 3ms/step - loss: 26.8842\n",
      "Epoch 90/100\n",
      "240/240 [==============================] - 1s 3ms/step - loss: 27.2329\n",
      "Epoch 91/100\n",
      "240/240 [==============================] - 1s 4ms/step - loss: 26.2994\n",
      "Epoch 92/100\n",
      "240/240 [==============================] - 1s 6ms/step - loss: 26.4491\n",
      "Epoch 93/100\n",
      "240/240 [==============================] - 1s 5ms/step - loss: 26.5321\n",
      "Epoch 94/100\n",
      "240/240 [==============================] - 1s 6ms/step - loss: 26.5770\n",
      "Epoch 95/100\n",
      "240/240 [==============================] - 1s 5ms/step - loss: 26.7994\n",
      "Epoch 96/100\n",
      "240/240 [==============================] - 1s 4ms/step - loss: 26.8547\n",
      "Epoch 97/100\n",
      "240/240 [==============================] - 1s 4ms/step - loss: 26.6647\n",
      "Epoch 98/100\n"
     ]
    },
    {
     "name": "stdout",
     "output_type": "stream",
     "text": [
      "240/240 [==============================] - 1s 4ms/step - loss: 27.0272\n",
      "Epoch 99/100\n",
      "240/240 [==============================] - 1s 4ms/step - loss: 27.4069\n",
      "Epoch 100/100\n",
      "240/240 [==============================] - 1s 4ms/step - loss: 26.4942\n"
     ]
    },
    {
     "data": {
      "text/plain": [
       "<keras.src.callbacks.History at 0x23359016ec0>"
      ]
     },
     "execution_count": 15,
     "metadata": {},
     "output_type": "execute_result"
    }
   ],
   "source": [
    "ann.fit(X_train, y_train, batch_size = 32, epochs = 100)"
   ]
  },
  {
   "cell_type": "code",
   "execution_count": 16,
   "id": "51bd07e9",
   "metadata": {},
   "outputs": [
    {
     "name": "stdout",
     "output_type": "stream",
     "text": [
      "60/60 [==============================] - 0s 2ms/step\n"
     ]
    }
   ],
   "source": [
    "y_pred = ann.predict(X_test)"
   ]
  },
  {
   "cell_type": "code",
   "execution_count": 17,
   "id": "b1f8c30d",
   "metadata": {},
   "outputs": [
    {
     "ename": "AttributeError",
     "evalue": "'Series' object has no attribute 'reshape'",
     "output_type": "error",
     "traceback": [
      "\u001b[1;31m---------------------------------------------------------------------------\u001b[0m",
      "\u001b[1;31mAttributeError\u001b[0m                            Traceback (most recent call last)",
      "Cell \u001b[1;32mIn[17], line 2\u001b[0m\n\u001b[0;32m      1\u001b[0m np\u001b[38;5;241m.\u001b[39mset_printoptions(precision\u001b[38;5;241m=\u001b[39m\u001b[38;5;241m2\u001b[39m)\n\u001b[1;32m----> 2\u001b[0m \u001b[38;5;28mprint\u001b[39m(np\u001b[38;5;241m.\u001b[39mconcatenate((y_pred\u001b[38;5;241m.\u001b[39mreshape(\u001b[38;5;28mlen\u001b[39m(y_pred),\u001b[38;5;241m1\u001b[39m),\u001b[43my_test\u001b[49m\u001b[38;5;241;43m.\u001b[39;49m\u001b[43mreshape\u001b[49m(\u001b[38;5;28mlen\u001b[39m(y_test),\u001b[38;5;241m1\u001b[39m)),\u001b[38;5;241m1\u001b[39m))\n",
      "File \u001b[1;32m~\\anaconda3\\lib\\site-packages\\pandas\\core\\generic.py:5902\u001b[0m, in \u001b[0;36mNDFrame.__getattr__\u001b[1;34m(self, name)\u001b[0m\n\u001b[0;32m   5895\u001b[0m \u001b[38;5;28;01mif\u001b[39;00m (\n\u001b[0;32m   5896\u001b[0m     name \u001b[38;5;129;01mnot\u001b[39;00m \u001b[38;5;129;01min\u001b[39;00m \u001b[38;5;28mself\u001b[39m\u001b[38;5;241m.\u001b[39m_internal_names_set\n\u001b[0;32m   5897\u001b[0m     \u001b[38;5;129;01mand\u001b[39;00m name \u001b[38;5;129;01mnot\u001b[39;00m \u001b[38;5;129;01min\u001b[39;00m \u001b[38;5;28mself\u001b[39m\u001b[38;5;241m.\u001b[39m_metadata\n\u001b[0;32m   5898\u001b[0m     \u001b[38;5;129;01mand\u001b[39;00m name \u001b[38;5;129;01mnot\u001b[39;00m \u001b[38;5;129;01min\u001b[39;00m \u001b[38;5;28mself\u001b[39m\u001b[38;5;241m.\u001b[39m_accessors\n\u001b[0;32m   5899\u001b[0m     \u001b[38;5;129;01mand\u001b[39;00m \u001b[38;5;28mself\u001b[39m\u001b[38;5;241m.\u001b[39m_info_axis\u001b[38;5;241m.\u001b[39m_can_hold_identifiers_and_holds_name(name)\n\u001b[0;32m   5900\u001b[0m ):\n\u001b[0;32m   5901\u001b[0m     \u001b[38;5;28;01mreturn\u001b[39;00m \u001b[38;5;28mself\u001b[39m[name]\n\u001b[1;32m-> 5902\u001b[0m \u001b[38;5;28;01mreturn\u001b[39;00m \u001b[38;5;28;43mobject\u001b[39;49m\u001b[38;5;241;43m.\u001b[39;49m\u001b[38;5;21;43m__getattribute__\u001b[39;49m\u001b[43m(\u001b[49m\u001b[38;5;28;43mself\u001b[39;49m\u001b[43m,\u001b[49m\u001b[43m \u001b[49m\u001b[43mname\u001b[49m\u001b[43m)\u001b[49m\n",
      "\u001b[1;31mAttributeError\u001b[0m: 'Series' object has no attribute 'reshape'"
     ]
    }
   ],
   "source": [
    "np.set_printoptions(precision=2)\n",
    "print(np.concatenate((y_pred.reshape(len(y_pred),1),y_test.reshape(len(y_test),1)),1))"
   ]
  },
  {
   "cell_type": "code",
   "execution_count": null,
   "id": "890a6070",
   "metadata": {},
   "outputs": [],
   "source": [
    "f"
   ]
  }
 ],
 "metadata": {
  "kernelspec": {
   "display_name": "Python 3 (ipykernel)",
   "language": "python",
   "name": "python3"
  },
  "language_info": {
   "codemirror_mode": {
    "name": "ipython",
    "version": 3
   },
   "file_extension": ".py",
   "mimetype": "text/x-python",
   "name": "python",
   "nbconvert_exporter": "python",
   "pygments_lexer": "ipython3",
   "version": "3.10.9"
  }
 },
 "nbformat": 4,
 "nbformat_minor": 5
}
